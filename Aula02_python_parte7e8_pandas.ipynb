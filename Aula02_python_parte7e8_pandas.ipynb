{
  "nbformat": 4,
  "nbformat_minor": 0,
  "metadata": {
    "colab": {
      "provenance": [],
      "collapsed_sections": [],
      "include_colab_link": true
    },
    "kernelspec": {
      "name": "python3",
      "display_name": "Python 3"
    }
  },
  "cells": [
    {
      "cell_type": "markdown",
      "metadata": {
        "id": "view-in-github",
        "colab_type": "text"
      },
      "source": [
        "<a href=\"https://colab.research.google.com/github/rguimaraesbr/rguimaraesbr/blob/main/Aula02_python_parte7e8_pandas.ipynb\" target=\"_parent\"><img src=\"https://colab.research.google.com/assets/colab-badge.svg\" alt=\"Open In Colab\"/></a>"
      ]
    },
    {
      "cell_type": "markdown",
      "metadata": {
        "id": "l8H2I1wA_i7k"
      },
      "source": [
        "# Pandas"
      ]
    },
    {
      "cell_type": "code",
      "metadata": {
        "id": "8uYDm64f_fiR"
      },
      "source": [
        "import pandas as pd\n",
        "import numpy as np"
      ],
      "execution_count": null,
      "outputs": []
    },
    {
      "cell_type": "code",
      "metadata": {
        "id": "TXDqMmJX_qnW",
        "colab": {
          "base_uri": "https://localhost:8080/",
          "height": 52
        },
        "outputId": "0f2b8807-b7f7-4e94-bcde-9b938e0743ea"
      },
      "source": [
        "vet = np.random.randint(1,20,26)\n",
        "vet"
      ],
      "execution_count": null,
      "outputs": [
        {
          "output_type": "execute_result",
          "data": {
            "text/plain": [
              "array([ 2, 18, 11, 18,  8,  2, 15, 19, 19, 17,  8, 14,  7,  2,  9, 14, 13,\n",
              "       11,  2,  8, 19, 12,  5, 13,  2, 10])"
            ]
          },
          "metadata": {
            "tags": []
          },
          "execution_count": 2
        }
      ]
    },
    {
      "cell_type": "code",
      "metadata": {
        "id": "0CHzM281_vYV",
        "colab": {
          "base_uri": "https://localhost:8080/",
          "height": 34
        },
        "outputId": "9b4ab04b-9e15-4e12-85ff-3b76caa8a499"
      },
      "source": [
        "vet.shape"
      ],
      "execution_count": null,
      "outputs": [
        {
          "output_type": "execute_result",
          "data": {
            "text/plain": [
              "(26,)"
            ]
          },
          "metadata": {
            "tags": []
          },
          "execution_count": 3
        }
      ]
    },
    {
      "cell_type": "code",
      "metadata": {
        "id": "6eCGMf9C_1gj"
      },
      "source": [
        "# criar serie a partir do numpy array\n",
        "df = pd.Series(vet)"
      ],
      "execution_count": null,
      "outputs": []
    },
    {
      "cell_type": "code",
      "metadata": {
        "id": "wPBJnGXPACWQ",
        "colab": {
          "base_uri": "https://localhost:8080/",
          "height": 122
        },
        "outputId": "c62395ee-667b-47cf-8595-d792d65e67f7"
      },
      "source": [
        "df.head() # 5 primeira linhas da serie  "
      ],
      "execution_count": null,
      "outputs": [
        {
          "output_type": "execute_result",
          "data": {
            "text/plain": [
              "0     2\n",
              "1    18\n",
              "2    11\n",
              "3    18\n",
              "4     8\n",
              "dtype: int64"
            ]
          },
          "metadata": {
            "tags": []
          },
          "execution_count": 8
        }
      ]
    },
    {
      "cell_type": "code",
      "metadata": {
        "id": "dsdU9xTZADhX",
        "colab": {
          "base_uri": "https://localhost:8080/",
          "height": 158
        },
        "outputId": "d966dfef-67b1-4083-a658-c69e0ef2fd20"
      },
      "source": [
        "df.tail(7) # 7 ultimas linhas "
      ],
      "execution_count": null,
      "outputs": [
        {
          "output_type": "execute_result",
          "data": {
            "text/plain": [
              "19     8\n",
              "20    19\n",
              "21    12\n",
              "22     5\n",
              "23    13\n",
              "24     2\n",
              "25    10\n",
              "dtype: int64"
            ]
          },
          "metadata": {
            "tags": []
          },
          "execution_count": 10
        }
      ]
    },
    {
      "cell_type": "code",
      "metadata": {
        "id": "Wx4ii0LLAnod",
        "colab": {
          "base_uri": "https://localhost:8080/",
          "height": 52
        },
        "outputId": "4964d698-4ac3-438c-d04c-d937e3584b48"
      },
      "source": [
        "# criar dataframe\n",
        "vet2 = vet.reshape((2,13))\n",
        "vet2"
      ],
      "execution_count": null,
      "outputs": [
        {
          "output_type": "execute_result",
          "data": {
            "text/plain": [
              "array([[ 2, 18, 11, 18,  8,  2, 15, 19, 19, 17,  8, 14,  7],\n",
              "       [ 2,  9, 14, 13, 11,  2,  8, 19, 12,  5, 13,  2, 10]])"
            ]
          },
          "metadata": {
            "tags": []
          },
          "execution_count": 12
        }
      ]
    },
    {
      "cell_type": "code",
      "metadata": {
        "id": "60msxtRYA8vm"
      },
      "source": [
        "df2 = pd.DataFrame(vet2)"
      ],
      "execution_count": null,
      "outputs": []
    },
    {
      "cell_type": "code",
      "metadata": {
        "id": "USvgTJHRBH2J",
        "colab": {
          "base_uri": "https://localhost:8080/",
          "height": 110
        },
        "outputId": "14db3c2b-349a-421c-c2e4-23b0b2873d7a"
      },
      "source": [
        "df2.head()"
      ],
      "execution_count": null,
      "outputs": [
        {
          "output_type": "execute_result",
          "data": {
            "text/html": [
              "<div>\n",
              "<style scoped>\n",
              "    .dataframe tbody tr th:only-of-type {\n",
              "        vertical-align: middle;\n",
              "    }\n",
              "\n",
              "    .dataframe tbody tr th {\n",
              "        vertical-align: top;\n",
              "    }\n",
              "\n",
              "    .dataframe thead th {\n",
              "        text-align: right;\n",
              "    }\n",
              "</style>\n",
              "<table border=\"1\" class=\"dataframe\">\n",
              "  <thead>\n",
              "    <tr style=\"text-align: right;\">\n",
              "      <th></th>\n",
              "      <th>0</th>\n",
              "      <th>1</th>\n",
              "      <th>2</th>\n",
              "      <th>3</th>\n",
              "      <th>4</th>\n",
              "      <th>5</th>\n",
              "      <th>6</th>\n",
              "      <th>7</th>\n",
              "      <th>8</th>\n",
              "      <th>9</th>\n",
              "      <th>10</th>\n",
              "      <th>11</th>\n",
              "      <th>12</th>\n",
              "    </tr>\n",
              "  </thead>\n",
              "  <tbody>\n",
              "    <tr>\n",
              "      <th>0</th>\n",
              "      <td>2</td>\n",
              "      <td>18</td>\n",
              "      <td>11</td>\n",
              "      <td>18</td>\n",
              "      <td>8</td>\n",
              "      <td>2</td>\n",
              "      <td>15</td>\n",
              "      <td>19</td>\n",
              "      <td>19</td>\n",
              "      <td>17</td>\n",
              "      <td>8</td>\n",
              "      <td>14</td>\n",
              "      <td>7</td>\n",
              "    </tr>\n",
              "    <tr>\n",
              "      <th>1</th>\n",
              "      <td>2</td>\n",
              "      <td>9</td>\n",
              "      <td>14</td>\n",
              "      <td>13</td>\n",
              "      <td>11</td>\n",
              "      <td>2</td>\n",
              "      <td>8</td>\n",
              "      <td>19</td>\n",
              "      <td>12</td>\n",
              "      <td>5</td>\n",
              "      <td>13</td>\n",
              "      <td>2</td>\n",
              "      <td>10</td>\n",
              "    </tr>\n",
              "  </tbody>\n",
              "</table>\n",
              "</div>"
            ],
            "text/plain": [
              "   0   1   2   3   4  5   6   7   8   9  10  11  12\n",
              "0  2  18  11  18   8  2  15  19  19  17   8  14   7\n",
              "1  2   9  14  13  11  2   8  19  12   5  13   2  10"
            ]
          },
          "metadata": {
            "tags": []
          },
          "execution_count": 14
        }
      ]
    },
    {
      "cell_type": "code",
      "metadata": {
        "id": "dBWR6UykBa-J"
      },
      "source": [
        "df2.columns = list(['jan', 'fev', 'mar', 'abril', 'maio', 'jun', 'jul', 'ago', 'set', 'out', 'nov', 'dez', 'jan'])"
      ],
      "execution_count": null,
      "outputs": []
    },
    {
      "cell_type": "code",
      "metadata": {
        "id": "DJkev73yCHcU",
        "colab": {
          "base_uri": "https://localhost:8080/",
          "height": 110
        },
        "outputId": "15679207-6882-4123-9ce2-398345d51450"
      },
      "source": [
        "df2.head()"
      ],
      "execution_count": null,
      "outputs": [
        {
          "output_type": "execute_result",
          "data": {
            "text/html": [
              "<div>\n",
              "<style scoped>\n",
              "    .dataframe tbody tr th:only-of-type {\n",
              "        vertical-align: middle;\n",
              "    }\n",
              "\n",
              "    .dataframe tbody tr th {\n",
              "        vertical-align: top;\n",
              "    }\n",
              "\n",
              "    .dataframe thead th {\n",
              "        text-align: right;\n",
              "    }\n",
              "</style>\n",
              "<table border=\"1\" class=\"dataframe\">\n",
              "  <thead>\n",
              "    <tr style=\"text-align: right;\">\n",
              "      <th></th>\n",
              "      <th>jan</th>\n",
              "      <th>fev</th>\n",
              "      <th>mar</th>\n",
              "      <th>abril</th>\n",
              "      <th>maio</th>\n",
              "      <th>jun</th>\n",
              "      <th>jul</th>\n",
              "      <th>ago</th>\n",
              "      <th>set</th>\n",
              "      <th>out</th>\n",
              "      <th>nov</th>\n",
              "      <th>dez</th>\n",
              "      <th>jan</th>\n",
              "    </tr>\n",
              "  </thead>\n",
              "  <tbody>\n",
              "    <tr>\n",
              "      <th>0</th>\n",
              "      <td>2</td>\n",
              "      <td>18</td>\n",
              "      <td>11</td>\n",
              "      <td>18</td>\n",
              "      <td>8</td>\n",
              "      <td>2</td>\n",
              "      <td>15</td>\n",
              "      <td>19</td>\n",
              "      <td>19</td>\n",
              "      <td>17</td>\n",
              "      <td>8</td>\n",
              "      <td>14</td>\n",
              "      <td>7</td>\n",
              "    </tr>\n",
              "    <tr>\n",
              "      <th>1</th>\n",
              "      <td>2</td>\n",
              "      <td>9</td>\n",
              "      <td>14</td>\n",
              "      <td>13</td>\n",
              "      <td>11</td>\n",
              "      <td>2</td>\n",
              "      <td>8</td>\n",
              "      <td>19</td>\n",
              "      <td>12</td>\n",
              "      <td>5</td>\n",
              "      <td>13</td>\n",
              "      <td>2</td>\n",
              "      <td>10</td>\n",
              "    </tr>\n",
              "  </tbody>\n",
              "</table>\n",
              "</div>"
            ],
            "text/plain": [
              "   jan  fev  mar  abril  maio  jun  jul  ago  set  out  nov  dez  jan\n",
              "0    2   18   11     18     8    2   15   19   19   17    8   14    7\n",
              "1    2    9   14     13    11    2    8   19   12    5   13    2   10"
            ]
          },
          "metadata": {
            "tags": []
          },
          "execution_count": 18
        }
      ]
    },
    {
      "cell_type": "code",
      "metadata": {
        "id": "n3TY_Q-nCIcY"
      },
      "source": [
        "df2.index = ['allan', 'manoela']"
      ],
      "execution_count": null,
      "outputs": []
    },
    {
      "cell_type": "code",
      "metadata": {
        "id": "vNLB5fyWCOhv",
        "colab": {
          "base_uri": "https://localhost:8080/",
          "height": 110
        },
        "outputId": "86dfb5e8-4769-4f93-a4c2-c3fbbb6994d9"
      },
      "source": [
        "df2.head()"
      ],
      "execution_count": null,
      "outputs": [
        {
          "output_type": "execute_result",
          "data": {
            "text/html": [
              "<div>\n",
              "<style scoped>\n",
              "    .dataframe tbody tr th:only-of-type {\n",
              "        vertical-align: middle;\n",
              "    }\n",
              "\n",
              "    .dataframe tbody tr th {\n",
              "        vertical-align: top;\n",
              "    }\n",
              "\n",
              "    .dataframe thead th {\n",
              "        text-align: right;\n",
              "    }\n",
              "</style>\n",
              "<table border=\"1\" class=\"dataframe\">\n",
              "  <thead>\n",
              "    <tr style=\"text-align: right;\">\n",
              "      <th></th>\n",
              "      <th>jan</th>\n",
              "      <th>fev</th>\n",
              "      <th>mar</th>\n",
              "      <th>abril</th>\n",
              "      <th>maio</th>\n",
              "      <th>jun</th>\n",
              "      <th>jul</th>\n",
              "      <th>ago</th>\n",
              "      <th>set</th>\n",
              "      <th>out</th>\n",
              "      <th>nov</th>\n",
              "      <th>dez</th>\n",
              "      <th>jan</th>\n",
              "    </tr>\n",
              "  </thead>\n",
              "  <tbody>\n",
              "    <tr>\n",
              "      <th>allan</th>\n",
              "      <td>2</td>\n",
              "      <td>18</td>\n",
              "      <td>11</td>\n",
              "      <td>18</td>\n",
              "      <td>8</td>\n",
              "      <td>2</td>\n",
              "      <td>15</td>\n",
              "      <td>19</td>\n",
              "      <td>19</td>\n",
              "      <td>17</td>\n",
              "      <td>8</td>\n",
              "      <td>14</td>\n",
              "      <td>7</td>\n",
              "    </tr>\n",
              "    <tr>\n",
              "      <th>manoela</th>\n",
              "      <td>2</td>\n",
              "      <td>9</td>\n",
              "      <td>14</td>\n",
              "      <td>13</td>\n",
              "      <td>11</td>\n",
              "      <td>2</td>\n",
              "      <td>8</td>\n",
              "      <td>19</td>\n",
              "      <td>12</td>\n",
              "      <td>5</td>\n",
              "      <td>13</td>\n",
              "      <td>2</td>\n",
              "      <td>10</td>\n",
              "    </tr>\n",
              "  </tbody>\n",
              "</table>\n",
              "</div>"
            ],
            "text/plain": [
              "         jan  fev  mar  abril  maio  jun  jul  ago  set  out  nov  dez  jan\n",
              "allan      2   18   11     18     8    2   15   19   19   17    8   14    7\n",
              "manoela    2    9   14     13    11    2    8   19   12    5   13    2   10"
            ]
          },
          "metadata": {
            "tags": []
          },
          "execution_count": 20
        }
      ]
    },
    {
      "cell_type": "code",
      "metadata": {
        "id": "DmaJ0b-RCPqS",
        "colab": {
          "base_uri": "https://localhost:8080/",
          "height": 34
        },
        "outputId": "d799dc61-abd1-411e-ce4f-fa901b481a2f"
      },
      "source": [
        "df2.iloc[0,0] # acesssar elemento pelo índice : iloc"
      ],
      "execution_count": null,
      "outputs": [
        {
          "output_type": "execute_result",
          "data": {
            "text/plain": [
              "2"
            ]
          },
          "metadata": {
            "tags": []
          },
          "execution_count": 22
        }
      ]
    },
    {
      "cell_type": "code",
      "metadata": {
        "id": "5CDzA5KBCVG-",
        "colab": {
          "base_uri": "https://localhost:8080/",
          "height": 70
        },
        "outputId": "7c59806d-fa9e-43c1-ac86-e3b04f9be065"
      },
      "source": [
        "df2.loc[['allan', 'manoela'], 'set'] # linhas allan e manoela da col set. loc acessa elemento pelo nome"
      ],
      "execution_count": null,
      "outputs": [
        {
          "output_type": "execute_result",
          "data": {
            "text/plain": [
              "allan      19\n",
              "manoela    12\n",
              "Name: set, dtype: int64"
            ]
          },
          "metadata": {
            "tags": []
          },
          "execution_count": 24
        }
      ]
    },
    {
      "cell_type": "code",
      "metadata": {
        "id": "6DE-TacjCl4p",
        "colab": {
          "base_uri": "https://localhost:8080/",
          "height": 70
        },
        "outputId": "bc2d961b-14d2-400d-ec82-1841b3cb1ae7"
      },
      "source": [
        "df2.loc[:, 'set'] #tds as linhas da col set"
      ],
      "execution_count": null,
      "outputs": [
        {
          "output_type": "execute_result",
          "data": {
            "text/plain": [
              "allan      19\n",
              "manoela    12\n",
              "Name: set, dtype: int64"
            ]
          },
          "metadata": {
            "tags": []
          },
          "execution_count": 25
        }
      ]
    },
    {
      "cell_type": "code",
      "metadata": {
        "id": "ByLbx8e8DQpz",
        "colab": {
          "base_uri": "https://localhost:8080/",
          "height": 316
        },
        "outputId": "d4d5f16c-6a0a-4338-9268-46090dce4b12"
      },
      "source": [
        "df2.describe()"
      ],
      "execution_count": null,
      "outputs": [
        {
          "output_type": "execute_result",
          "data": {
            "text/html": [
              "<div>\n",
              "<style scoped>\n",
              "    .dataframe tbody tr th:only-of-type {\n",
              "        vertical-align: middle;\n",
              "    }\n",
              "\n",
              "    .dataframe tbody tr th {\n",
              "        vertical-align: top;\n",
              "    }\n",
              "\n",
              "    .dataframe thead th {\n",
              "        text-align: right;\n",
              "    }\n",
              "</style>\n",
              "<table border=\"1\" class=\"dataframe\">\n",
              "  <thead>\n",
              "    <tr style=\"text-align: right;\">\n",
              "      <th></th>\n",
              "      <th>jan</th>\n",
              "      <th>fev</th>\n",
              "      <th>mar</th>\n",
              "      <th>abril</th>\n",
              "      <th>maio</th>\n",
              "      <th>jun</th>\n",
              "      <th>jul</th>\n",
              "      <th>ago</th>\n",
              "      <th>set</th>\n",
              "      <th>out</th>\n",
              "      <th>nov</th>\n",
              "      <th>dez</th>\n",
              "      <th>jan</th>\n",
              "    </tr>\n",
              "  </thead>\n",
              "  <tbody>\n",
              "    <tr>\n",
              "      <th>count</th>\n",
              "      <td>2.0</td>\n",
              "      <td>2.000000</td>\n",
              "      <td>2.00000</td>\n",
              "      <td>2.000000</td>\n",
              "      <td>2.00000</td>\n",
              "      <td>2.0</td>\n",
              "      <td>2.000000</td>\n",
              "      <td>2.0</td>\n",
              "      <td>2.000000</td>\n",
              "      <td>2.000000</td>\n",
              "      <td>2.000000</td>\n",
              "      <td>2.000000</td>\n",
              "      <td>2.00000</td>\n",
              "    </tr>\n",
              "    <tr>\n",
              "      <th>mean</th>\n",
              "      <td>2.0</td>\n",
              "      <td>13.500000</td>\n",
              "      <td>12.50000</td>\n",
              "      <td>15.500000</td>\n",
              "      <td>9.50000</td>\n",
              "      <td>2.0</td>\n",
              "      <td>11.500000</td>\n",
              "      <td>19.0</td>\n",
              "      <td>15.500000</td>\n",
              "      <td>11.000000</td>\n",
              "      <td>10.500000</td>\n",
              "      <td>8.000000</td>\n",
              "      <td>8.50000</td>\n",
              "    </tr>\n",
              "    <tr>\n",
              "      <th>std</th>\n",
              "      <td>0.0</td>\n",
              "      <td>6.363961</td>\n",
              "      <td>2.12132</td>\n",
              "      <td>3.535534</td>\n",
              "      <td>2.12132</td>\n",
              "      <td>0.0</td>\n",
              "      <td>4.949747</td>\n",
              "      <td>0.0</td>\n",
              "      <td>4.949747</td>\n",
              "      <td>8.485281</td>\n",
              "      <td>3.535534</td>\n",
              "      <td>8.485281</td>\n",
              "      <td>2.12132</td>\n",
              "    </tr>\n",
              "    <tr>\n",
              "      <th>min</th>\n",
              "      <td>2.0</td>\n",
              "      <td>9.000000</td>\n",
              "      <td>11.00000</td>\n",
              "      <td>13.000000</td>\n",
              "      <td>8.00000</td>\n",
              "      <td>2.0</td>\n",
              "      <td>8.000000</td>\n",
              "      <td>19.0</td>\n",
              "      <td>12.000000</td>\n",
              "      <td>5.000000</td>\n",
              "      <td>8.000000</td>\n",
              "      <td>2.000000</td>\n",
              "      <td>7.00000</td>\n",
              "    </tr>\n",
              "    <tr>\n",
              "      <th>25%</th>\n",
              "      <td>2.0</td>\n",
              "      <td>11.250000</td>\n",
              "      <td>11.75000</td>\n",
              "      <td>14.250000</td>\n",
              "      <td>8.75000</td>\n",
              "      <td>2.0</td>\n",
              "      <td>9.750000</td>\n",
              "      <td>19.0</td>\n",
              "      <td>13.750000</td>\n",
              "      <td>8.000000</td>\n",
              "      <td>9.250000</td>\n",
              "      <td>5.000000</td>\n",
              "      <td>7.75000</td>\n",
              "    </tr>\n",
              "    <tr>\n",
              "      <th>50%</th>\n",
              "      <td>2.0</td>\n",
              "      <td>13.500000</td>\n",
              "      <td>12.50000</td>\n",
              "      <td>15.500000</td>\n",
              "      <td>9.50000</td>\n",
              "      <td>2.0</td>\n",
              "      <td>11.500000</td>\n",
              "      <td>19.0</td>\n",
              "      <td>15.500000</td>\n",
              "      <td>11.000000</td>\n",
              "      <td>10.500000</td>\n",
              "      <td>8.000000</td>\n",
              "      <td>8.50000</td>\n",
              "    </tr>\n",
              "    <tr>\n",
              "      <th>75%</th>\n",
              "      <td>2.0</td>\n",
              "      <td>15.750000</td>\n",
              "      <td>13.25000</td>\n",
              "      <td>16.750000</td>\n",
              "      <td>10.25000</td>\n",
              "      <td>2.0</td>\n",
              "      <td>13.250000</td>\n",
              "      <td>19.0</td>\n",
              "      <td>17.250000</td>\n",
              "      <td>14.000000</td>\n",
              "      <td>11.750000</td>\n",
              "      <td>11.000000</td>\n",
              "      <td>9.25000</td>\n",
              "    </tr>\n",
              "    <tr>\n",
              "      <th>max</th>\n",
              "      <td>2.0</td>\n",
              "      <td>18.000000</td>\n",
              "      <td>14.00000</td>\n",
              "      <td>18.000000</td>\n",
              "      <td>11.00000</td>\n",
              "      <td>2.0</td>\n",
              "      <td>15.000000</td>\n",
              "      <td>19.0</td>\n",
              "      <td>19.000000</td>\n",
              "      <td>17.000000</td>\n",
              "      <td>13.000000</td>\n",
              "      <td>14.000000</td>\n",
              "      <td>10.00000</td>\n",
              "    </tr>\n",
              "  </tbody>\n",
              "</table>\n",
              "</div>"
            ],
            "text/plain": [
              "       jan        fev       mar  ...        nov        dez       jan\n",
              "count  2.0   2.000000   2.00000  ...   2.000000   2.000000   2.00000\n",
              "mean   2.0  13.500000  12.50000  ...  10.500000   8.000000   8.50000\n",
              "std    0.0   6.363961   2.12132  ...   3.535534   8.485281   2.12132\n",
              "min    2.0   9.000000  11.00000  ...   8.000000   2.000000   7.00000\n",
              "25%    2.0  11.250000  11.75000  ...   9.250000   5.000000   7.75000\n",
              "50%    2.0  13.500000  12.50000  ...  10.500000   8.000000   8.50000\n",
              "75%    2.0  15.750000  13.25000  ...  11.750000  11.000000   9.25000\n",
              "max    2.0  18.000000  14.00000  ...  13.000000  14.000000  10.00000\n",
              "\n",
              "[8 rows x 13 columns]"
            ]
          },
          "metadata": {
            "tags": []
          },
          "execution_count": 26
        }
      ]
    },
    {
      "cell_type": "markdown",
      "metadata": {
        "id": "iYQkHKg3D-cR"
      },
      "source": [
        "# exercício"
      ]
    },
    {
      "cell_type": "code",
      "metadata": {
        "id": "Cz2JxxdcDR5l"
      },
      "source": [
        "dados = pd.read_csv('DadosDemograficos.csv')"
      ],
      "execution_count": null,
      "outputs": []
    },
    {
      "cell_type": "code",
      "metadata": {
        "id": "irraRPyQEh9T",
        "colab": {
          "base_uri": "https://localhost:8080/",
          "height": 234
        },
        "outputId": "2629f8cd-d6f1-4e5d-9f8b-e4e2597b0b92"
      },
      "source": [
        "dados.head(6)"
      ],
      "execution_count": null,
      "outputs": [
        {
          "output_type": "execute_result",
          "data": {
            "text/html": [
              "<div>\n",
              "<style scoped>\n",
              "    .dataframe tbody tr th:only-of-type {\n",
              "        vertical-align: middle;\n",
              "    }\n",
              "\n",
              "    .dataframe tbody tr th {\n",
              "        vertical-align: top;\n",
              "    }\n",
              "\n",
              "    .dataframe thead th {\n",
              "        text-align: right;\n",
              "    }\n",
              "</style>\n",
              "<table border=\"1\" class=\"dataframe\">\n",
              "  <thead>\n",
              "    <tr style=\"text-align: right;\">\n",
              "      <th></th>\n",
              "      <th>Country Name</th>\n",
              "      <th>Country Code</th>\n",
              "      <th>Birth rate</th>\n",
              "      <th>Internet users</th>\n",
              "      <th>Income Group</th>\n",
              "    </tr>\n",
              "  </thead>\n",
              "  <tbody>\n",
              "    <tr>\n",
              "      <th>0</th>\n",
              "      <td>Aruba</td>\n",
              "      <td>ABW</td>\n",
              "      <td>10.244</td>\n",
              "      <td>78.9</td>\n",
              "      <td>High income</td>\n",
              "    </tr>\n",
              "    <tr>\n",
              "      <th>1</th>\n",
              "      <td>Afghanistan</td>\n",
              "      <td>AFG</td>\n",
              "      <td>35.253</td>\n",
              "      <td>5.9</td>\n",
              "      <td>Low income</td>\n",
              "    </tr>\n",
              "    <tr>\n",
              "      <th>2</th>\n",
              "      <td>Angola</td>\n",
              "      <td>AGO</td>\n",
              "      <td>45.985</td>\n",
              "      <td>19.1</td>\n",
              "      <td>Upper middle income</td>\n",
              "    </tr>\n",
              "    <tr>\n",
              "      <th>3</th>\n",
              "      <td>Albania</td>\n",
              "      <td>ALB</td>\n",
              "      <td>12.877</td>\n",
              "      <td>57.2</td>\n",
              "      <td>Upper middle income</td>\n",
              "    </tr>\n",
              "    <tr>\n",
              "      <th>4</th>\n",
              "      <td>United Arab Emirates</td>\n",
              "      <td>ARE</td>\n",
              "      <td>11.044</td>\n",
              "      <td>88.0</td>\n",
              "      <td>High income</td>\n",
              "    </tr>\n",
              "    <tr>\n",
              "      <th>5</th>\n",
              "      <td>Argentina</td>\n",
              "      <td>ARG</td>\n",
              "      <td>17.716</td>\n",
              "      <td>59.9</td>\n",
              "      <td>High income</td>\n",
              "    </tr>\n",
              "  </tbody>\n",
              "</table>\n",
              "</div>"
            ],
            "text/plain": [
              "           Country Name Country Code  ...  Internet users         Income Group\n",
              "0                 Aruba          ABW  ...            78.9          High income\n",
              "1           Afghanistan          AFG  ...             5.9           Low income\n",
              "2                Angola          AGO  ...            19.1  Upper middle income\n",
              "3               Albania          ALB  ...            57.2  Upper middle income\n",
              "4  United Arab Emirates          ARE  ...            88.0          High income\n",
              "5             Argentina          ARG  ...            59.9          High income\n",
              "\n",
              "[6 rows x 5 columns]"
            ]
          },
          "metadata": {
            "tags": []
          },
          "execution_count": 30
        }
      ]
    },
    {
      "cell_type": "code",
      "metadata": {
        "id": "YshBXU1FEkep",
        "colab": {
          "base_uri": "https://localhost:8080/",
          "height": 34
        },
        "outputId": "f751fba7-b92f-4d4b-a5d2-27c4f0a28dde"
      },
      "source": [
        "dados.shape"
      ],
      "execution_count": null,
      "outputs": [
        {
          "output_type": "execute_result",
          "data": {
            "text/plain": [
              "(195, 5)"
            ]
          },
          "metadata": {
            "tags": []
          },
          "execution_count": 29
        }
      ]
    },
    {
      "cell_type": "markdown",
      "metadata": {
        "id": "lkX5hSmMGLIk"
      },
      "source": [
        "Que país tem alta taxa de nascimento (>35), poucas pessoas com acesso à internet (<25) e alta renda? (dica: operador e: &)\n"
      ]
    },
    {
      "cell_type": "code",
      "metadata": {
        "id": "aKvSHnu3Esze",
        "colab": {
          "base_uri": "https://localhost:8080/",
          "height": 228
        },
        "outputId": "07ae95ba-10af-4444-c367-1c3e2b940697"
      },
      "source": [
        "filtro = (dados['Birth rate'] > 35) & (dados['Internet users'] < 25) & (dados['Income Group'] == 'High income')\n",
        "filtro"
      ],
      "execution_count": null,
      "outputs": [
        {
          "output_type": "execute_result",
          "data": {
            "text/plain": [
              "0      False\n",
              "1      False\n",
              "2      False\n",
              "3      False\n",
              "4      False\n",
              "       ...  \n",
              "190    False\n",
              "191    False\n",
              "192    False\n",
              "193    False\n",
              "194    False\n",
              "Length: 195, dtype: bool"
            ]
          },
          "metadata": {
            "tags": []
          },
          "execution_count": 34
        }
      ]
    },
    {
      "cell_type": "code",
      "metadata": {
        "id": "pGQifTz-G_kU",
        "colab": {
          "base_uri": "https://localhost:8080/",
          "height": 79
        },
        "outputId": "81d0d7da-54d7-4302-f9af-62a691a91f85"
      },
      "source": [
        "dados[filtro]"
      ],
      "execution_count": null,
      "outputs": [
        {
          "output_type": "execute_result",
          "data": {
            "text/html": [
              "<div>\n",
              "<style scoped>\n",
              "    .dataframe tbody tr th:only-of-type {\n",
              "        vertical-align: middle;\n",
              "    }\n",
              "\n",
              "    .dataframe tbody tr th {\n",
              "        vertical-align: top;\n",
              "    }\n",
              "\n",
              "    .dataframe thead th {\n",
              "        text-align: right;\n",
              "    }\n",
              "</style>\n",
              "<table border=\"1\" class=\"dataframe\">\n",
              "  <thead>\n",
              "    <tr style=\"text-align: right;\">\n",
              "      <th></th>\n",
              "      <th>Country Name</th>\n",
              "      <th>Country Code</th>\n",
              "      <th>Birth rate</th>\n",
              "      <th>Internet users</th>\n",
              "      <th>Income Group</th>\n",
              "    </tr>\n",
              "  </thead>\n",
              "  <tbody>\n",
              "    <tr>\n",
              "      <th>67</th>\n",
              "      <td>Equatorial Guinea</td>\n",
              "      <td>GNQ</td>\n",
              "      <td>35.362</td>\n",
              "      <td>16.4</td>\n",
              "      <td>High income</td>\n",
              "    </tr>\n",
              "  </tbody>\n",
              "</table>\n",
              "</div>"
            ],
            "text/plain": [
              "         Country Name Country Code  Birth rate  Internet users Income Group\n",
              "67  Equatorial Guinea          GNQ      35.362            16.4  High income"
            ]
          },
          "metadata": {
            "tags": []
          },
          "execution_count": 35
        }
      ]
    },
    {
      "cell_type": "markdown",
      "metadata": {
        "id": "bDR0_aUkHrxP"
      },
      "source": [
        "Que país tem alta taxa de nascimento (>45), poucas pessoas com acesso à internet (<25) e renda média-alta?\n"
      ]
    },
    {
      "cell_type": "code",
      "metadata": {
        "id": "SP28TwwxHNUW"
      },
      "source": [
        "filtro2 = (dados['Birth rate']>45) & (dados['Internet users'] < 25) & (dados['Income Group'] == 'Upper middle income')"
      ],
      "execution_count": null,
      "outputs": []
    },
    {
      "cell_type": "code",
      "metadata": {
        "id": "jYsB9xG7H6s0",
        "colab": {
          "base_uri": "https://localhost:8080/",
          "height": 79
        },
        "outputId": "2860b88f-c6c0-4f6a-9764-8435c83c98b0"
      },
      "source": [
        "dados[filtro2]"
      ],
      "execution_count": null,
      "outputs": [
        {
          "output_type": "execute_result",
          "data": {
            "text/html": [
              "<div>\n",
              "<style scoped>\n",
              "    .dataframe tbody tr th:only-of-type {\n",
              "        vertical-align: middle;\n",
              "    }\n",
              "\n",
              "    .dataframe tbody tr th {\n",
              "        vertical-align: top;\n",
              "    }\n",
              "\n",
              "    .dataframe thead th {\n",
              "        text-align: right;\n",
              "    }\n",
              "</style>\n",
              "<table border=\"1\" class=\"dataframe\">\n",
              "  <thead>\n",
              "    <tr style=\"text-align: right;\">\n",
              "      <th></th>\n",
              "      <th>Country Name</th>\n",
              "      <th>Country Code</th>\n",
              "      <th>Birth rate</th>\n",
              "      <th>Internet users</th>\n",
              "      <th>Income Group</th>\n",
              "    </tr>\n",
              "  </thead>\n",
              "  <tbody>\n",
              "    <tr>\n",
              "      <th>2</th>\n",
              "      <td>Angola</td>\n",
              "      <td>AGO</td>\n",
              "      <td>45.985</td>\n",
              "      <td>19.1</td>\n",
              "      <td>Upper middle income</td>\n",
              "    </tr>\n",
              "  </tbody>\n",
              "</table>\n",
              "</div>"
            ],
            "text/plain": [
              "  Country Name Country Code  Birth rate  Internet users         Income Group\n",
              "2       Angola          AGO      45.985            19.1  Upper middle income"
            ]
          },
          "metadata": {
            "tags": []
          },
          "execution_count": 37
        }
      ]
    },
    {
      "cell_type": "code",
      "metadata": {
        "id": "U8eejRiqH8Xi"
      },
      "source": [
        "# Malta\n",
        "malta = dados['Country Name'] == 'Malta'"
      ],
      "execution_count": null,
      "outputs": []
    },
    {
      "cell_type": "code",
      "metadata": {
        "id": "aiED7hqBIWx9",
        "colab": {
          "base_uri": "https://localhost:8080/",
          "height": 79
        },
        "outputId": "c1b0e095-d875-4777-ec05-b20481f74239"
      },
      "source": [
        "dados[malta]"
      ],
      "execution_count": null,
      "outputs": [
        {
          "output_type": "execute_result",
          "data": {
            "text/html": [
              "<div>\n",
              "<style scoped>\n",
              "    .dataframe tbody tr th:only-of-type {\n",
              "        vertical-align: middle;\n",
              "    }\n",
              "\n",
              "    .dataframe tbody tr th {\n",
              "        vertical-align: top;\n",
              "    }\n",
              "\n",
              "    .dataframe thead th {\n",
              "        text-align: right;\n",
              "    }\n",
              "</style>\n",
              "<table border=\"1\" class=\"dataframe\">\n",
              "  <thead>\n",
              "    <tr style=\"text-align: right;\">\n",
              "      <th></th>\n",
              "      <th>Country Name</th>\n",
              "      <th>Country Code</th>\n",
              "      <th>Birth rate</th>\n",
              "      <th>Internet users</th>\n",
              "      <th>Income Group</th>\n",
              "    </tr>\n",
              "  </thead>\n",
              "  <tbody>\n",
              "    <tr>\n",
              "      <th>116</th>\n",
              "      <td>Malta</td>\n",
              "      <td>MLT</td>\n",
              "      <td>9.5</td>\n",
              "      <td>68.9138</td>\n",
              "      <td>High income</td>\n",
              "    </tr>\n",
              "  </tbody>\n",
              "</table>\n",
              "</div>"
            ],
            "text/plain": [
              "    Country Name Country Code  Birth rate  Internet users Income Group\n",
              "116        Malta          MLT         9.5         68.9138  High income"
            ]
          },
          "metadata": {
            "tags": []
          },
          "execution_count": 39
        }
      ]
    },
    {
      "cell_type": "code",
      "metadata": {
        "id": "5XNWL4Q6IYE0"
      },
      "source": [],
      "execution_count": null,
      "outputs": []
    }
  ]
}